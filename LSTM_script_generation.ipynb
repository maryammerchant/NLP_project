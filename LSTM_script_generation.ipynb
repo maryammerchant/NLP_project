{
 "cells": [
  {
   "cell_type": "markdown",
   "metadata": {},
   "source": [
    "# LSTM Script generation - Maryam Merchnat & Siby Babu"
   ]
  },
  {
   "cell_type": "code",
   "execution_count": null,
   "metadata": {
    "colab": {
     "base_uri": "https://localhost:8080/"
    },
    "id": "Lm7qIsv16msH",
    "outputId": "cdbdcdee-3ebb-4dd4-9064-0208d5db111b"
   },
   "outputs": [
    {
     "name": "stdout",
     "output_type": "stream",
     "text": [
      "Mounted at /content/gdrive\n"
     ]
    }
   ],
   "source": [
    "from google.colab import drive\n",
    "drive.mount('/content/gdrive')"
   ]
  },
  {
   "cell_type": "code",
   "execution_count": null,
   "metadata": {
    "id": "eIsm0Jlt6qQB"
   },
   "outputs": [],
   "source": [
    "import os\n",
    "os.chdir('/content/gdrive/My Drive/NLP_FP_LSTM')"
   ]
  },
  {
   "cell_type": "code",
   "execution_count": null,
   "metadata": {
    "colab": {
     "base_uri": "https://localhost:8080/"
    },
    "id": "JrG6SiWv7H1T",
    "outputId": "b92d07e0-5882-4186-a153-907e92831c62"
   },
   "outputs": [
    {
     "name": "stdout",
     "output_type": "stream",
     "text": [
      "dlnd_tv_script_generation.ipynb  preprocess.p          \u001b[0m\u001b[01;34m__pycache__\u001b[0m/\n",
      "helper.py                        problem_unittests.py  Seinfeld_Scripts.txt\n"
     ]
    }
   ],
   "source": [
    "ls"
   ]
  },
  {
   "cell_type": "code",
   "execution_count": null,
   "metadata": {
    "id": "u0GtYP5H7e5m"
   },
   "outputs": [],
   "source": [
    "\"\"\"\n",
    "DON'T MODIFY ANYTHING IN THIS CELL\n",
    "\"\"\"\n",
    "# load in data\n",
    "import helper\n",
    "data_dir = 'Seinfeld_Scripts.txt'\n",
    "text = helper.load_data(data_dir)"
   ]
  },
  {
   "cell_type": "code",
   "execution_count": null,
   "metadata": {
    "colab": {
     "base_uri": "https://localhost:8080/"
    },
    "id": "iY6-0GCB8Fih",
    "outputId": "12d662ec-dad9-4789-9639-6d961278ebbd"
   },
   "outputs": [
    {
     "name": "stdout",
     "output_type": "stream",
     "text": [
      "Dataset Stats\n",
      "Roughly the number of unique words: 46367\n",
      "Number of lines: 109233\n",
      "Average number of words in each line: 5.544240293684143\n",
      "\n",
      "The lines 0 to 10:\n",
      "jerry: do you know what this is all about? do you know, why were here? to be out, this is out...and out is one of the single most enjoyable experiences of life. people...did you ever hear people talking about we should go out? this is what theyre talking about...this whole thing, were all out now, no one is home. not one person here is home, were all out! there are people trying to find us, they dont know where we are. (on an imaginary phone) did you ring?, i cant find him. where did he go? he didnt tell me where he was going. he must have gone out. you wanna go out you get ready, you pick out the clothes, right? you take the shower, you get all ready, get the cash, get your friends, the car, the spot, the reservation...then youre standing around, what do you do? you go we gotta be getting back. once youre out, you wanna get back! you wanna go to sleep, you wanna get up, you wanna go out again tomorrow, right? where ever you are in life, its my feeling, youve gotta go. \n",
      "\n",
      "jerry: (pointing at georges shirt) see, to me, that button is in the worst possible spot. the second button literally makes or breaks the shirt, look at it. its too high! its in no-mans-land. you look like you live with your mother. \n",
      "\n",
      "george: are you through? \n",
      "\n",
      "jerry: you do of course try on, when you buy? \n",
      "\n",
      "george: yes, it was purple, i liked it, i dont actually recall considering the buttons. \n",
      "\n"
     ]
    }
   ],
   "source": [
    "view_line_range = (0, 10)\n",
    "\n",
    "\"\"\"\n",
    "DON'T MODIFY ANYTHING IN THIS CELL THAT IS BELOW THIS LINE\n",
    "\"\"\"\n",
    "import numpy as np\n",
    "\n",
    "print('Dataset Stats')\n",
    "print('Roughly the number of unique words: {}'.format(len({word: None for word in text.split()})))\n",
    "\n",
    "lines = text.split('\\n')\n",
    "print('Number of lines: {}'.format(len(lines)))\n",
    "word_count_line = [len(line.split()) for line in lines]\n",
    "print('Average number of words in each line: {}'.format(np.average(word_count_line)))\n",
    "\n",
    "print()\n",
    "print('The lines {} to {}:'.format(*view_line_range))\n",
    "print('\\n'.join(text.split('\\n')[view_line_range[0]:view_line_range[1]]))"
   ]
  },
  {
   "cell_type": "code",
   "execution_count": null,
   "metadata": {
    "colab": {
     "base_uri": "https://localhost:8080/"
    },
    "id": "LAB72IHN8ba6",
    "outputId": "ea924cf7-1384-4432-8c9c-b99ca0c33255"
   },
   "outputs": [
    {
     "name": "stdout",
     "output_type": "stream",
     "text": [
      "Tests Passed\n"
     ]
    }
   ],
   "source": [
    "import problem_unittests as tests\n",
    "from collections import Counter\n",
    "\n",
    "def create_lookup_tables(text):\n",
    "    \"\"\"\n",
    "    Create lookup tables for vocabulary\n",
    "    :param text: The text of tv scripts split into words\n",
    "    :return: A tuple of dicts (vocab_to_int, int_to_vocab)\n",
    "    \"\"\"\n",
    "    word_counts = Counter(text)\n",
    "    # sorting the words from most to least frequent in text occurrence\n",
    "    sorted_vocab = sorted(word_counts, key=word_counts.get, reverse=True)\n",
    "    # create int_to_vocab dictionaries\n",
    "    int_to_vocab = {ii: word for ii, word in enumerate(sorted_vocab)}\n",
    "    vocab_to_int = {word: ii for ii, word in int_to_vocab.items()}\n",
    "\n",
    "    return (vocab_to_int, int_to_vocab)\n",
    "\n",
    "\n",
    "\n",
    "\"\"\"\n",
    "DON'T MODIFY ANYTHING IN THIS CELL THAT IS BELOW THIS LINE\n",
    "\"\"\"\n",
    "tests.test_create_lookup_tables(create_lookup_tables)"
   ]
  },
  {
   "cell_type": "code",
   "execution_count": null,
   "metadata": {
    "colab": {
     "base_uri": "https://localhost:8080/"
    },
    "id": "7dcTN5qj8fN4",
    "outputId": "53ba357d-a477-4740-9e32-84aa5821f424"
   },
   "outputs": [
    {
     "name": "stdout",
     "output_type": "stream",
     "text": [
      "Tests Passed\n"
     ]
    }
   ],
   "source": [
    "def token_lookup():\n",
    "    \"\"\"\n",
    "    Generate a dict to turn punctuation into a token.\n",
    "    :return: Tokenized dictionary where the key is the punctuation and the value is the token\n",
    "    \"\"\"\n",
    "    return {\n",
    "        '.': '<PERIOD>',\n",
    "        ',': '<COMMA>',\n",
    "        '\\\"': '<QUOTATION_MARK>',\n",
    "        ';': '<SEMICOLON>',\n",
    "        '!': '<EXCLAMATION_MARK>',\n",
    "        '?': '<QUESTION_MARK>',\n",
    "        '(': '<LEFT_PAREN>',\n",
    "        ')': '<RIGHT_PAREN>',\n",
    "        '-': '<DASH>',\n",
    "        '\\n': '<RETURN>'\n",
    "    }  \n",
    "    \n",
    "\"\"\"\n",
    "DON'T MODIFY ANYTHING IN THIS CELL THAT IS BELOW THIS LINE\n",
    "\"\"\"\n",
    "tests.test_tokenize(token_lookup)"
   ]
  },
  {
   "cell_type": "code",
   "execution_count": null,
   "metadata": {
    "id": "iy4G0RPr8iF7"
   },
   "outputs": [],
   "source": [
    "\"\"\"\n",
    "DON'T MODIFY ANYTHING IN THIS CELL\n",
    "\"\"\"\n",
    "# pre-process training data\n",
    "helper.preprocess_and_save_data(data_dir, token_lookup, create_lookup_tables)"
   ]
  },
  {
   "cell_type": "code",
   "execution_count": null,
   "metadata": {
    "id": "-EI1YMAx8kqC"
   },
   "outputs": [],
   "source": [
    "\"\"\"\n",
    "DON'T MODIFY ANYTHING IN THIS CELL\n",
    "\"\"\"\n",
    "import helper\n",
    "import problem_unittests as tests\n",
    "\n",
    "int_text, vocab_to_int, int_to_vocab, token_dict = helper.load_preprocess()"
   ]
  },
  {
   "cell_type": "code",
   "execution_count": null,
   "metadata": {
    "id": "UpA3Ax4D8pl5"
   },
   "outputs": [],
   "source": [
    "\"\"\"\n",
    "DON'T MODIFY ANYTHING IN THIS CELL\n",
    "\"\"\"\n",
    "import torch\n",
    "\n",
    "# Check for a GPU\n",
    "train_on_gpu = torch.cuda.is_available()\n",
    "if not train_on_gpu:\n",
    "    print('No GPU found. Please use a GPU to train your neural network.')"
   ]
  },
  {
   "cell_type": "code",
   "execution_count": null,
   "metadata": {
    "id": "y2yoV_1V8s2E"
   },
   "outputs": [],
   "source": [
    "from torch.utils.data import TensorDataset, DataLoader\n",
    "\n",
    "\n",
    "def batch_data(words, sequence_length, batch_size):\n",
    "    \"\"\"\n",
    "    Batch the neural network data using DataLoader\n",
    "    :param words: The word ids of the TV scripts\n",
    "    :param sequence_length: The sequence length of each batch\n",
    "    :param batch_size: The size of each batch; the number of sequences in a batch\n",
    "    :return: DataLoader with batched data\n",
    "    \"\"\"\n",
    "    \n",
    "    # see word2vec-embeddings/Skip_Grams_Solution.ipynb#Generating-Batches\n",
    "    n_batches = len(words)//batch_size\n",
    "    \n",
    "    # only full batches\n",
    "    words = words[:n_batches*batch_size]\n",
    "    \n",
    "    x, y = [], []\n",
    "    for index in range(0, (len(words) - sequence_length) ):\n",
    "        x.append(words[index : index + sequence_length])\n",
    "        y.append(words[index + sequence_length])   \n",
    "\n",
    "    data = TensorDataset(torch.from_numpy(np.asarray(x)), torch.from_numpy(np.asarray(y)))\n",
    "    data_loader = torch.utils.data.DataLoader(data, shuffle=True, batch_size=batch_size)\n",
    "\n",
    "    return data_loader\n",
    "\n",
    "# there is no test for this function, but you are encouraged to create\n",
    "# print statements and tests of your own"
   ]
  },
  {
   "cell_type": "code",
   "execution_count": null,
   "metadata": {
    "colab": {
     "base_uri": "https://localhost:8080/"
    },
    "id": "J6mF8j7e8wGx",
    "outputId": "6be665d8-e0e8-45ce-e461-7e4ec86dc528"
   },
   "outputs": [
    {
     "name": "stdout",
     "output_type": "stream",
     "text": [
      "torch.Size([10, 5])\n",
      "tensor([[34, 35, 36, 37, 38],\n",
      "        [27, 28, 29, 30, 31],\n",
      "        [ 3,  4,  5,  6,  7],\n",
      "        [31, 32, 33, 34, 35],\n",
      "        [18, 19, 20, 21, 22],\n",
      "        [21, 22, 23, 24, 25],\n",
      "        [32, 33, 34, 35, 36],\n",
      "        [ 1,  2,  3,  4,  5],\n",
      "        [25, 26, 27, 28, 29],\n",
      "        [ 5,  6,  7,  8,  9]])\n",
      "\n",
      "torch.Size([10])\n",
      "tensor([39, 32,  8, 36, 23, 26, 37,  6, 30, 10])\n"
     ]
    }
   ],
   "source": [
    "# test dataloader\n",
    "\n",
    "test_text = range(50)\n",
    "t_loader = batch_data(test_text, sequence_length=5, batch_size=10)\n",
    "\n",
    "data_iter = iter(t_loader)\n",
    "sample_x, sample_y = next(data_iter)\n",
    "\n",
    "print(sample_x.shape)\n",
    "print(sample_x)\n",
    "print()\n",
    "print(sample_y.shape)\n",
    "print(sample_y)"
   ]
  },
  {
   "cell_type": "code",
   "execution_count": null,
   "metadata": {
    "colab": {
     "base_uri": "https://localhost:8080/"
    },
    "id": "HgEYXDk68y5_",
    "outputId": "b2a15e38-4d95-4b4f-d740-c593b0c6ef55"
   },
   "outputs": [
    {
     "name": "stdout",
     "output_type": "stream",
     "text": [
      "Tests Passed\n"
     ]
    }
   ],
   "source": [
    "import torch.nn as nn\n",
    "\n",
    "class RNN(nn.Module):\n",
    "    \n",
    "    def __init__(self, vocab_size, output_size, embedding_dim, hidden_dim, n_layers, dropout=0.5):\n",
    "        \"\"\"\n",
    "        Initialize the PyTorch RNN Module\n",
    "        :param vocab_size: The number of input dimensions of the neural network (the size of the vocabulary)\n",
    "        :param output_size: The number of output dimensions of the neural network\n",
    "        :param embedding_dim: The size of embeddings, should you choose to use them        \n",
    "        :param hidden_dim: The size of the hidden layer outputs\n",
    "        :param dropout: dropout to add in between LSTM/GRU layers\n",
    "        \"\"\"\n",
    "        super(RNN, self).__init__()\n",
    "        \n",
    "        # set class variables\n",
    "        self.vocab_size = vocab_size\n",
    "        self.output_size = output_size\n",
    "        self.embedding_dim = embedding_dim\n",
    "        self.hidden_dim = hidden_dim\n",
    "        self.n_layers = n_layers\n",
    "        \n",
    "        # define model layers\n",
    "        \n",
    "        # embedding and LSTM layers\n",
    "        self.embedding = nn.Embedding(vocab_size, embedding_dim)\n",
    "        self.lstm = nn.LSTM(embedding_dim, hidden_dim, n_layers, dropout=dropout, batch_first=True)\n",
    "        \n",
    "        # dropout layer\n",
    "        self.dropout = nn.Dropout(0.3)\n",
    "        \n",
    "        # linear and sigmoid layers\n",
    "        self.fc = nn.Linear(hidden_dim, output_size)\n",
    "        self.sig = nn.Sigmoid()\n",
    "    \n",
    "    \n",
    "    def forward(self, nn_input, hidden):\n",
    "        \"\"\"\n",
    "        Forward propagation of the neural network\n",
    "        :param nn_input: The input to the neural network\n",
    "        :param hidden: The hidden state        \n",
    "        :return: Two Tensors, the output of the neural network and the latest hidden state\n",
    "        \"\"\"\n",
    "       \n",
    "        batch_size = nn_input.size(0)\n",
    "\n",
    "        # embeddings and lstm_out\n",
    "        embeds = self.embedding(nn_input)\n",
    "        lstm_out, hidden = self.lstm(embeds, hidden)\n",
    "    \n",
    "        # stack up lstm outputs\n",
    "        lstm_out = lstm_out.contiguous().view(-1, self.hidden_dim)\n",
    "        \n",
    "        # dropout and fully-connected layer\n",
    "        out = self.fc(lstm_out)\n",
    "        \n",
    "        # reshape to be batch_size first\n",
    "        out = out.view(batch_size, -1, self.output_size)\n",
    "        out = out[:, -1] # get last batch of labels\n",
    "        \n",
    "        # return one batch of output word scores and the hidden state\n",
    "        return out, hidden    \n",
    "    \n",
    "    def init_hidden(self, batch_size):\n",
    "        '''\n",
    "        Initialize the hidden state of an LSTM/GRU\n",
    "        :param batch_size: The batch_size of the hidden state\n",
    "        :return: hidden state of dims (n_layers, batch_size, hidden_dim)\n",
    "        '''\n",
    "        # initialize hidden state with zero weights, and move to GPU if available\n",
    "        \n",
    "        # Create two new tensors with sizes n_layers x batch_size x hidden_dim,\n",
    "        # initialized to zero, for hidden state and cell state of LSTM\n",
    "        weight = next(self.parameters()).data\n",
    "        \n",
    "        if (train_on_gpu):\n",
    "            hidden = (weight.new(self.n_layers, batch_size, self.hidden_dim).zero_().cuda(),\n",
    "                  weight.new(self.n_layers, batch_size, self.hidden_dim).zero_().cuda())\n",
    "        else:\n",
    "            hidden = (weight.new(self.n_layers, batch_size, self.hidden_dim).zero_(),\n",
    "                      weight.new(self.n_layers, batch_size, self.hidden_dim).zero_())\n",
    "        \n",
    "        return hidden\n",
    "        \n",
    "\n",
    "\"\"\"\n",
    "DON'T MODIFY ANYTHING IN THIS CELL THAT IS BELOW THIS LINE\n",
    "\"\"\"\n",
    "tests.test_rnn(RNN, train_on_gpu)"
   ]
  },
  {
   "cell_type": "code",
   "execution_count": null,
   "metadata": {
    "colab": {
     "base_uri": "https://localhost:8080/"
    },
    "id": "HbYbrDPR854N",
    "outputId": "8a466200-d352-4447-deb4-356306299467"
   },
   "outputs": [
    {
     "name": "stdout",
     "output_type": "stream",
     "text": [
      "Tests Passed\n"
     ]
    }
   ],
   "source": [
    "def forward_back_prop(rnn, optimizer, criterion, inp, target, hidden):\n",
    "    \"\"\"\n",
    "    Forward and backward propagation on the neural network\n",
    "    :param rnn: The PyTorch Module that holds the neural network\n",
    "    :param optimizer: The PyTorch optimizer for the neural network\n",
    "    :param criterion: The PyTorch loss function\n",
    "    :param inp: A batch of input to the neural network\n",
    "    :param target: The target output for the batch of input\n",
    "    :return: The loss and the latest hidden state Tensor\n",
    "    \"\"\"\n",
    "    \n",
    "    # move data to GPU, if available    \n",
    "    if(train_on_gpu):\n",
    "        rnn.cuda()\n",
    "\n",
    "    # create new vars for hidden state, otherwise\n",
    "    # we backprop the entire training history\n",
    "    h = tuple([each.data for each in hidden])\n",
    "        \n",
    "    # zero accumulated gradients\n",
    "    rnn.zero_grad()\n",
    "    \n",
    "    if(train_on_gpu):\n",
    "        inp, target = inp.cuda(), target.cuda()\n",
    "\n",
    "    # get the output from the model\n",
    "    output, h = rnn(inp, h)\n",
    "\n",
    "    # perform backpropagation and optimization\n",
    "    # calculate the loss and perform backprop\n",
    "    loss = criterion(output, target)\n",
    "    loss.backward()\n",
    "    \n",
    "    # avoid exploding gradient\n",
    "    nn.utils.clip_grad_norm_(rnn.parameters(), 5)\n",
    "    optimizer.step()\n",
    "    \n",
    "    # return the loss over a batch and the hidden state produced by our model\n",
    "    return loss.item(), h\n",
    "\n",
    "\n",
    "# Note that these tests aren't completely extensive.\n",
    "# they are here to act as general checks on the expected outputs of your functions\n",
    "\"\"\"\n",
    "DON'T MODIFY ANYTHING IN THIS CELL THAT IS BELOW THIS LINE\n",
    "\"\"\"\n",
    "tests.test_forward_back_prop(RNN, forward_back_prop, train_on_gpu)"
   ]
  },
  {
   "cell_type": "code",
   "execution_count": null,
   "metadata": {
    "id": "ilfJU47989J1"
   },
   "outputs": [],
   "source": [
    "\"\"\"\n",
    "DON'T MODIFY ANYTHING IN THIS CELL\n",
    "\"\"\"\n",
    "\n",
    "def train_rnn(rnn, batch_size, optimizer, criterion, n_epochs, show_every_n_batches=100):\n",
    "    batch_losses = []\n",
    "    \n",
    "    rnn.train()\n",
    "\n",
    "    print(\"Training for %d epoch(s)...\" % n_epochs)\n",
    "    for epoch_i in range(1, n_epochs + 1):\n",
    "        \n",
    "        # initialize hidden state\n",
    "        hidden = rnn.init_hidden(batch_size)\n",
    "        \n",
    "        for batch_i, (inputs, labels) in enumerate(train_loader, 1):\n",
    "            \n",
    "            # make sure you iterate over completely full batches, only\n",
    "            n_batches = len(train_loader.dataset)//batch_size\n",
    "            if(batch_i > n_batches):\n",
    "                break\n",
    "            \n",
    "            # forward, back prop\n",
    "            loss, hidden = forward_back_prop(rnn, optimizer, criterion, inputs, labels, hidden)          \n",
    "            # record loss\n",
    "            batch_losses.append(loss)\n",
    "\n",
    "            # printing loss stats\n",
    "            if batch_i % show_every_n_batches == 0:\n",
    "                print('Epoch: {:>4}/{:<4}  Loss: {}\\n'.format(\n",
    "                    epoch_i, n_epochs, np.average(batch_losses)))\n",
    "                batch_losses = []\n",
    "\n",
    "    # returns a trained rnn\n",
    "    return rnn"
   ]
  },
  {
   "cell_type": "code",
   "execution_count": null,
   "metadata": {
    "id": "8pLunQrs8_5_"
   },
   "outputs": [],
   "source": [
    "# Data params\n",
    "# Sequence Length (n words in a sequence)\n",
    "sequence_length = 12\n",
    "\n",
    "# Batch Size\n",
    "batch_size = 128\n",
    "\n",
    "# data loader - do not change\n",
    "train_loader = batch_data(int_text, sequence_length, batch_size)"
   ]
  },
  {
   "cell_type": "code",
   "execution_count": null,
   "metadata": {
    "id": "HDkrj34Z9D6s"
   },
   "outputs": [],
   "source": [
    "#################### Training parameters ################\n",
    "# Number of Epochs\n",
    "num_epochs = 10\n",
    "\n",
    "# Learning Rate\n",
    "learning_rate = 0.001\n",
    "\n",
    "###################### Model parameters ################\n",
    "# Vocab size\n",
    "vocab_size = len(vocab_to_int) \n",
    "\n",
    "# Output size\n",
    "output_size = vocab_size\n",
    "\n",
    "# Embedding Dimension\n",
    "embedding_dim = 250\n",
    "\n",
    "# Hidden Dimension\n",
    "hidden_dim = 256\n",
    "\n",
    "# Number of RNN Layers\n",
    "n_layers = 2\n",
    "\n",
    "# Show stats for every n number of batches\n",
    "show_every_n_batches = 500"
   ]
  },
  {
   "cell_type": "code",
   "execution_count": null,
   "metadata": {
    "id": "1Dvo90oX9F8Z"
   },
   "outputs": [],
   "source": [
    "model_name = 'trained_rnn_' + str(num_epochs)\n",
    "model_path = './save/' + model_name"
   ]
  },
  {
   "cell_type": "code",
   "execution_count": null,
   "metadata": {
    "colab": {
     "base_uri": "https://localhost:8080/"
    },
    "id": "YesJFlSc9IQ7",
    "outputId": "02bb832a-8994-4750-8d2c-d890fc3e19f5"
   },
   "outputs": [
    {
     "name": "stdout",
     "output_type": "stream",
     "text": [
      "Training for 10 epoch(s)...\n",
      "Epoch:    1/10    Loss: 5.506863052845001\n",
      "\n",
      "Epoch:    1/10    Loss: 4.817174753189087\n",
      "\n",
      "Epoch:    1/10    Loss: 4.586503156661987\n",
      "\n",
      "Epoch:    1/10    Loss: 4.475630362510681\n",
      "\n",
      "Epoch:    1/10    Loss: 4.390262899398803\n",
      "\n",
      "Epoch:    1/10    Loss: 4.34493340921402\n",
      "\n",
      "Epoch:    1/10    Loss: 4.292293753623962\n",
      "\n",
      "Epoch:    1/10    Loss: 4.254841614246368\n",
      "\n",
      "Epoch:    1/10    Loss: 4.219920630931854\n",
      "\n",
      "Epoch:    1/10    Loss: 4.191356097698212\n",
      "\n",
      "Epoch:    1/10    Loss: 4.142390847682953\n",
      "\n",
      "Epoch:    1/10    Loss: 4.125839903831482\n",
      "\n",
      "Epoch:    1/10    Loss: 4.094306458950043\n",
      "\n",
      "Epoch:    2/10    Loss: 4.007402853778571\n",
      "\n",
      "Epoch:    2/10    Loss: 3.9249347190856936\n",
      "\n",
      "Epoch:    2/10    Loss: 3.9450890612602234\n",
      "\n",
      "Epoch:    2/10    Loss: 3.9196533994674683\n",
      "\n",
      "Epoch:    2/10    Loss: 3.931690505504608\n",
      "\n",
      "Epoch:    2/10    Loss: 3.8961633338928223\n",
      "\n",
      "Epoch:    2/10    Loss: 3.8780699715614317\n",
      "\n",
      "Epoch:    2/10    Loss: 3.8709482712745666\n",
      "\n",
      "Epoch:    2/10    Loss: 3.8958067564964294\n",
      "\n",
      "Epoch:    2/10    Loss: 3.8708926916122435\n",
      "\n",
      "Epoch:    2/10    Loss: 3.8830606660842895\n",
      "\n",
      "Epoch:    2/10    Loss: 3.8769666385650634\n",
      "\n",
      "Epoch:    2/10    Loss: 3.8670383043289185\n",
      "\n",
      "Epoch:    3/10    Loss: 3.7831822660836307\n",
      "\n",
      "Epoch:    3/10    Loss: 3.696108145713806\n",
      "\n",
      "Epoch:    3/10    Loss: 3.709496798992157\n",
      "\n",
      "Epoch:    3/10    Loss: 3.7105129585266114\n",
      "\n",
      "Epoch:    3/10    Loss: 3.699188943386078\n",
      "\n",
      "Epoch:    3/10    Loss: 3.7068986477851866\n",
      "\n",
      "Epoch:    3/10    Loss: 3.7394414463043213\n",
      "\n",
      "Epoch:    3/10    Loss: 3.7359586215019225\n",
      "\n",
      "Epoch:    3/10    Loss: 3.7174149904251097\n",
      "\n",
      "Epoch:    3/10    Loss: 3.7597578611373903\n",
      "\n",
      "Epoch:    3/10    Loss: 3.73391095161438\n",
      "\n",
      "Epoch:    3/10    Loss: 3.7555672135353086\n",
      "\n",
      "Epoch:    3/10    Loss: 3.7107582507133485\n",
      "\n",
      "Epoch:    4/10    Loss: 3.662461950512957\n",
      "\n",
      "Epoch:    4/10    Loss: 3.6054799137115476\n",
      "\n",
      "Epoch:    4/10    Loss: 3.5610222363471986\n",
      "\n",
      "Epoch:    4/10    Loss: 3.5821296577453614\n",
      "\n",
      "Epoch:    4/10    Loss: 3.5900242581367494\n",
      "\n",
      "Epoch:    4/10    Loss: 3.601863989830017\n",
      "\n",
      "Epoch:    4/10    Loss: 3.624647901058197\n",
      "\n",
      "Epoch:    4/10    Loss: 3.614650634765625\n",
      "\n",
      "Epoch:    4/10    Loss: 3.6186977577209474\n",
      "\n",
      "Epoch:    4/10    Loss: 3.6373111395835878\n",
      "\n",
      "Epoch:    4/10    Loss: 3.6284125208854676\n",
      "\n",
      "Epoch:    4/10    Loss: 3.631390950679779\n",
      "\n",
      "Epoch:    4/10    Loss: 3.6313810682296754\n",
      "\n",
      "Epoch:    5/10    Loss: 3.5573729490938266\n",
      "\n",
      "Epoch:    5/10    Loss: 3.454449258327484\n",
      "\n",
      "Epoch:    5/10    Loss: 3.491760213851929\n",
      "\n",
      "Epoch:    5/10    Loss: 3.4993846640586854\n",
      "\n",
      "Epoch:    5/10    Loss: 3.476692018032074\n",
      "\n",
      "Epoch:    5/10    Loss: 3.515624255657196\n",
      "\n",
      "Epoch:    5/10    Loss: 3.519640490531921\n",
      "\n",
      "Epoch:    5/10    Loss: 3.51687539434433\n",
      "\n",
      "Epoch:    5/10    Loss: 3.5528716859817506\n",
      "\n",
      "Epoch:    5/10    Loss: 3.5542919921875\n",
      "\n",
      "Epoch:    5/10    Loss: 3.5569893450737\n",
      "\n",
      "Epoch:    5/10    Loss: 3.573102135181427\n",
      "\n",
      "Epoch:    5/10    Loss: 3.557163484096527\n",
      "\n",
      "Epoch:    6/10    Loss: 3.4856033352288334\n",
      "\n",
      "Epoch:    6/10    Loss: 3.396309548854828\n",
      "\n",
      "Epoch:    6/10    Loss: 3.399649667739868\n",
      "\n",
      "Epoch:    6/10    Loss: 3.4198397212028504\n",
      "\n",
      "Epoch:    6/10    Loss: 3.4176858339309693\n",
      "\n",
      "Epoch:    6/10    Loss: 3.4454755940437316\n",
      "\n",
      "Epoch:    6/10    Loss: 3.4544161443710326\n",
      "\n",
      "Epoch:    6/10    Loss: 3.4531460876464846\n",
      "\n",
      "Epoch:    6/10    Loss: 3.4768315286636353\n",
      "\n",
      "Epoch:    6/10    Loss: 3.5010633687973023\n",
      "\n",
      "Epoch:    6/10    Loss: 3.4828818945884703\n",
      "\n",
      "Epoch:    6/10    Loss: 3.501620104312897\n",
      "\n",
      "Epoch:    6/10    Loss: 3.52640097951889\n",
      "\n",
      "Epoch:    7/10    Loss: 3.407817373344721\n",
      "\n",
      "Epoch:    7/10    Loss: 3.340411758899689\n",
      "\n",
      "Epoch:    7/10    Loss: 3.3517339301109312\n",
      "\n",
      "Epoch:    7/10    Loss: 3.3721141743659975\n",
      "\n",
      "Epoch:    7/10    Loss: 3.3809493865966798\n",
      "\n",
      "Epoch:    7/10    Loss: 3.3778198928833008\n",
      "\n",
      "Epoch:    7/10    Loss: 3.394786325931549\n",
      "\n",
      "Epoch:    7/10    Loss: 3.3973674030303953\n",
      "\n",
      "Epoch:    7/10    Loss: 3.4280446581840516\n",
      "\n",
      "Epoch:    7/10    Loss: 3.4359346208572386\n",
      "\n",
      "Epoch:    7/10    Loss: 3.465676139831543\n",
      "\n",
      "Epoch:    7/10    Loss: 3.4634949145317075\n",
      "\n",
      "Epoch:    7/10    Loss: 3.4559112548828126\n",
      "\n",
      "Epoch:    8/10    Loss: 3.3599912211422094\n",
      "\n",
      "Epoch:    8/10    Loss: 3.284789792060852\n",
      "\n",
      "Epoch:    8/10    Loss: 3.3106959490776062\n",
      "\n",
      "Epoch:    8/10    Loss: 3.317819291114807\n",
      "\n",
      "Epoch:    8/10    Loss: 3.34140522813797\n",
      "\n",
      "Epoch:    8/10    Loss: 3.3374680042266847\n",
      "\n",
      "Epoch:    8/10    Loss: 3.3615853457450866\n",
      "\n",
      "Epoch:    8/10    Loss: 3.370243145465851\n",
      "\n",
      "Epoch:    8/10    Loss: 3.36770120382309\n",
      "\n",
      "Epoch:    8/10    Loss: 3.3768998622894286\n",
      "\n",
      "Epoch:    8/10    Loss: 3.4023075604438784\n",
      "\n",
      "Epoch:    8/10    Loss: 3.3925414342880247\n",
      "\n",
      "Epoch:    8/10    Loss: 3.4246901969909667\n",
      "\n",
      "Epoch:    9/10    Loss: 3.3256729501338045\n",
      "\n",
      "Epoch:    9/10    Loss: 3.248023015022278\n",
      "\n",
      "Epoch:    9/10    Loss: 3.2830694613456726\n",
      "\n",
      "Epoch:    9/10    Loss: 3.2612574195861814\n",
      "\n",
      "Epoch:    9/10    Loss: 3.304682601928711\n",
      "\n",
      "Epoch:    9/10    Loss: 3.2918987860679625\n",
      "\n",
      "Epoch:    9/10    Loss: 3.320658059597015\n",
      "\n",
      "Epoch:    9/10    Loss: 3.3098455123901367\n",
      "\n",
      "Epoch:    9/10    Loss: 3.3394567255973815\n",
      "\n",
      "Epoch:    9/10    Loss: 3.3434274559020998\n",
      "\n",
      "Epoch:    9/10    Loss: 3.354691951751709\n",
      "\n",
      "Epoch:    9/10    Loss: 3.367378424167633\n",
      "\n",
      "Epoch:    9/10    Loss: 3.3726806263923645\n",
      "\n",
      "Epoch:   10/10    Loss: 3.29922865417378\n",
      "\n",
      "Epoch:   10/10    Loss: 3.2342103967666627\n",
      "\n",
      "Epoch:   10/10    Loss: 3.2332286233901977\n",
      "\n",
      "Epoch:   10/10    Loss: 3.247075280189514\n",
      "\n",
      "Epoch:   10/10    Loss: 3.2670600819587707\n",
      "\n",
      "Epoch:   10/10    Loss: 3.2732080454826353\n",
      "\n",
      "Epoch:   10/10    Loss: 3.2847183876037596\n",
      "\n",
      "Epoch:   10/10    Loss: 3.283413589477539\n",
      "\n",
      "Epoch:   10/10    Loss: 3.2891984524726867\n",
      "\n",
      "Epoch:   10/10    Loss: 3.307230851650238\n",
      "\n",
      "Epoch:   10/10    Loss: 3.3158711524009705\n",
      "\n",
      "Epoch:   10/10    Loss: 3.3251451048851015\n",
      "\n",
      "Epoch:   10/10    Loss: 3.3531750526428223\n",
      "\n",
      "Model Trained and Saved\n"
     ]
    }
   ],
   "source": [
    "\"\"\"\n",
    "DON'T MODIFY ANYTHING IN THIS CELL\n",
    "\"\"\"\n",
    "\n",
    "# create model and move to gpu if available\n",
    "rnn = RNN(vocab_size, output_size, embedding_dim, hidden_dim, n_layers, dropout=0.5)\n",
    "if train_on_gpu:\n",
    "    rnn.cuda()\n",
    "\n",
    "# defining loss and optimization functions for training\n",
    "optimizer = torch.optim.Adam(rnn.parameters(), lr=learning_rate)\n",
    "criterion = nn.CrossEntropyLoss()\n",
    "\n",
    "# training the model\n",
    "trained_rnn = train_rnn(rnn, batch_size, optimizer, criterion, num_epochs, show_every_n_batches)\n",
    "\n",
    "# save the trained model\n",
    "helper.save_model(model_path, trained_rnn)\n",
    "print('Model Trained and Saved')"
   ]
  },
  {
   "cell_type": "code",
   "execution_count": null,
   "metadata": {
    "id": "XQt_uMQ99KN2"
   },
   "outputs": [],
   "source": [
    "\"\"\"\n",
    "DON'T MODIFY ANYTHING IN THIS CELL\n",
    "\"\"\"\n",
    "import torch\n",
    "import helper\n",
    "import problem_unittests as tests\n",
    "\n",
    "_, vocab_to_int, int_to_vocab, token_dict = helper.load_preprocess()\n",
    "trained_rnn = helper.load_model(model_path)"
   ]
  },
  {
   "cell_type": "code",
   "execution_count": null,
   "metadata": {
    "id": "aTH-ztuW9OOE"
   },
   "outputs": [],
   "source": [
    "\"\"\"\n",
    "DON'T MODIFY ANYTHING IN THIS CELL THAT IS BELOW THIS LINE\n",
    "\"\"\"\n",
    "import torch.nn.functional as F\n",
    "\n",
    "def generate(rnn, prime_id, int_to_vocab, token_dict, pad_value, predict_len=100):\n",
    "    \"\"\"\n",
    "    Generate text using the neural network\n",
    "    :param decoder: The PyTorch Module that holds the trained neural network\n",
    "    :param prime_id: The word id to start the first prediction\n",
    "    :param int_to_vocab: Dict of word id keys to word values\n",
    "    :param token_dict: Dict of puncuation tokens keys to puncuation values\n",
    "    :param pad_value: The value used to pad a sequence\n",
    "    :param predict_len: The length of text to generate\n",
    "    :return: The generated text\n",
    "    \"\"\"\n",
    "    rnn.eval()\n",
    "    \n",
    "    # create a sequence (batch_size=1) with the prime_id\n",
    "    current_seq = np.full((1, sequence_length), pad_value)\n",
    "    current_seq[-1][-1] = prime_id\n",
    "    predicted = [int_to_vocab[prime_id]]\n",
    "    \n",
    "    for _ in range(predict_len):\n",
    "        if train_on_gpu:\n",
    "            current_seq = torch.LongTensor(current_seq).cuda()\n",
    "        else:\n",
    "            current_seq = torch.LongTensor(current_seq)\n",
    "        \n",
    "        # initialize the hidden state\n",
    "        hidden = rnn.init_hidden(current_seq.size(0))\n",
    "        \n",
    "        # get the output of the rnn\n",
    "        output, _ = rnn(current_seq, hidden)\n",
    "        \n",
    "        # get the next word probabilities\n",
    "        p = F.softmax(output, dim=1).data\n",
    "        if(train_on_gpu):\n",
    "            p = p.cpu() # move to cpu\n",
    "         \n",
    "        # use top_k sampling to get the index of the next word\n",
    "        top_k = 5\n",
    "        p, top_i = p.topk(top_k)\n",
    "        top_i = top_i.numpy().squeeze()\n",
    "        \n",
    "        # select the likely next word index with some element of randomness\n",
    "        p = p.numpy().squeeze()\n",
    "        word_i = np.random.choice(top_i, p=p/p.sum())\n",
    "        \n",
    "        # retrieve that word from the dictionary\n",
    "        word = int_to_vocab[word_i]\n",
    "        predicted.append(word)     \n",
    "        \n",
    "        if(train_on_gpu):\n",
    "            current_seq = current_seq.cpu() # move to cpu\n",
    "        # the generated word becomes the next \"current sequence\" and the cycle can continue\n",
    "        if train_on_gpu:\n",
    "            current_seq = current_seq.cpu()\n",
    "        current_seq = np.roll(current_seq, -1, 1)\n",
    "        current_seq[-1][-1] = word_i\n",
    "    \n",
    "    gen_sentences = ' '.join(predicted)\n",
    "    \n",
    "    # Replace punctuation tokens\n",
    "    for key, token in token_dict.items():\n",
    "        ending = ' ' if key in ['\\n', '(', '\"'] else ''\n",
    "        gen_sentences = gen_sentences.replace(' ' + token.lower(), key)\n",
    "    gen_sentences = gen_sentences.replace('\\n ', '\\n')\n",
    "    gen_sentences = gen_sentences.replace('( ', '(')\n",
    "    \n",
    "    # return all the sentences\n",
    "    return gen_sentences"
   ]
  },
  {
   "cell_type": "code",
   "execution_count": null,
   "metadata": {
    "colab": {
     "base_uri": "https://localhost:8080/"
    },
    "id": "2vm-xnA59OKs",
    "outputId": "b974e9c8-701d-46ba-88e2-61257dba2b20"
   },
   "outputs": [
    {
     "name": "stdout",
     "output_type": "stream",
     "text": [
      "newman: cameras cameras cameras cameras cameras cameras cameras cameras obsession frighten daddy's smoothing...\n",
      "\n",
      "george: i was not worried about that commercial.\n",
      "\n",
      "jerry:(pointing) i don't think i know what the hell happened to...\n",
      "\n",
      "jerry: i don't know...\n",
      "\n",
      "elaine: oh, yeah, well, i don't know what it was.\n",
      "\n",
      "kramer: well...\n",
      "\n",
      "george:(to jerry) hey, how ya doin'?\n",
      "\n",
      "jerry:(thinking) you don't have to do it.\n",
      "\n",
      "jerry:(to kramer) you know what i think?\n",
      "\n",
      "newman: you know. i was thinking about the specials.\n",
      "\n",
      "kramer:(on a phone) oh, hi, hi.\n",
      "\n",
      "george: hi.\n",
      "\n",
      "elaine: hi.\n",
      "\n",
      "kramer: hi.\n",
      "\n",
      "elaine: oh hi.\n",
      "\n",
      "jerry: oh. hi, elaine.\n",
      "\n",
      "george: hi.\n",
      "\n",
      "kramer: hi.\n",
      "\n",
      "jerry: hi.\n",
      "\n",
      "jerry: hi, jerry.\n",
      "\n",
      "jerry: hi.\n"
     ]
    }
   ],
   "source": [
    "# run the cell multiple times to get different results!\n",
    "gen_length = 200 # modify the length to your preference\n",
    "prime_word = 'newman' # name for starting the script\n",
    "\n",
    "\"\"\"\n",
    "DON'T MODIFY ANYTHING IN THIS CELL THAT IS BELOW THIS LINE\n",
    "\"\"\"\n",
    "pad_word = helper.SPECIAL_WORDS['PADDING']\n",
    "generated_script = generate(trained_rnn, vocab_to_int[prime_word + ':'], int_to_vocab, token_dict, vocab_to_int[pad_word], gen_length)\n",
    "print(generated_script)"
   ]
  },
  {
   "cell_type": "code",
   "execution_count": null,
   "metadata": {
    "id": "HrZH06eo9OHD"
   },
   "outputs": [],
   "source": []
  },
  {
   "cell_type": "code",
   "execution_count": null,
   "metadata": {
    "id": "TwSgpV7f9ODF"
   },
   "outputs": [],
   "source": []
  },
  {
   "cell_type": "code",
   "execution_count": null,
   "metadata": {
    "id": "N4JW2eMP9N_d"
   },
   "outputs": [],
   "source": []
  }
 ],
 "metadata": {
  "accelerator": "GPU",
  "colab": {
   "gpuType": "T4",
   "provenance": []
  },
  "gpuClass": "standard",
  "kernelspec": {
   "display_name": "Python 3 (ipykernel)",
   "language": "python",
   "name": "python3"
  },
  "language_info": {
   "codemirror_mode": {
    "name": "ipython",
    "version": 3
   },
   "file_extension": ".py",
   "mimetype": "text/x-python",
   "name": "python",
   "nbconvert_exporter": "python",
   "pygments_lexer": "ipython3",
   "version": "3.9.7"
  }
 },
 "nbformat": 4,
 "nbformat_minor": 1
}
